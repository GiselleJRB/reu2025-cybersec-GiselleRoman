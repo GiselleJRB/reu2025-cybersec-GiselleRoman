{
  "nbformat": 4,
  "nbformat_minor": 0,
  "metadata": {
    "colab": {
      "provenance": []
    },
    "kernelspec": {
      "name": "python3",
      "display_name": "Python 3"
    },
    "language_info": {
      "name": "python"
    }
  },
  "cells": [
    {
      "cell_type": "code",
      "execution_count": 1,
      "metadata": {
        "id": "lbWHMYegJdQn"
      },
      "outputs": [],
      "source": [
        "# Longest Increasing Subsequence\n",
        "def LIS(nums):\n",
        "    dp = [1] * len(nums)\n",
        "    for i in range(len(nums)):\n",
        "        for j in range(i):\n",
        "            if nums[i] > nums[j]:\n",
        "                dp[i] = max(dp[i], dp[j] + 1)\n",
        "    return max(dp)"
      ]
    },
    {
      "cell_type": "code",
      "source": [
        "print(LIS([10, 9, 2, 5, 3, 7, 101, 18]))"
      ],
      "metadata": {
        "colab": {
          "base_uri": "https://localhost:8080/"
        },
        "id": "1DvqTNrIJlEZ",
        "outputId": "02d3ca08-def5-4fdc-a6b0-8118e30742d8"
      },
      "execution_count": 2,
      "outputs": [
        {
          "output_type": "stream",
          "name": "stdout",
          "text": [
            "4\n"
          ]
        }
      ]
    },
    {
      "cell_type": "markdown",
      "source": [
        "The Longest Increasing Subsequence (LIS) finds the longest increasing path in the given list. Based on the given list, there are multiple valid LIS, with the longest possible paths having a length of 4.\n",
        "\n",
        "The time complexity is exponential, O(n²), as it uses brute force by trying all subsequences. As for space complexity, it is O(n) due to the call stack.\n",
        "\n",
        "This is relevant to my research by using the input as a sequence of robot sensor readings. LIS helps identify the longest sequence of trust or anomaly scores, which is useful for pattern detection in the state logs."
      ],
      "metadata": {
        "id": "p7czFGdQRMxu"
      }
    },
    {
      "cell_type": "code",
      "source": [
        "#Knapsack 0/1\n",
        "def knapsack(W, wt, val, n):\n",
        "    dp = [[0 for x in range(W + 1)] for x in range(n + 1)]\n",
        "    for i in range(n + 1):\n",
        "        for w in range(W + 1):\n",
        "            if i == 0 or w == 0:\n",
        "                dp[i][w] = 0\n",
        "            elif wt[i - 1] <= w:\n",
        "                dp[i][w] = max(val[i - 1] + dp[i - 1][w - wt[i - 1]], dp[i - 1][w])\n",
        "            else:\n",
        "                dp[i][w] = dp[i - 1][w]\n",
        "    return dp[n][W]"
      ],
      "metadata": {
        "id": "UdyBJj7OJm8S"
      },
      "execution_count": 3,
      "outputs": []
    },
    {
      "cell_type": "code",
      "source": [
        "print(knapsack(50, [10, 20, 30], [60, 100, 120], 3))"
      ],
      "metadata": {
        "colab": {
          "base_uri": "https://localhost:8080/"
        },
        "id": "VQDReHFhJr0D",
        "outputId": "8836aca7-16af-4ee3-a001-a68192d297f7"
      },
      "execution_count": 4,
      "outputs": [
        {
          "output_type": "stream",
          "name": "stdout",
          "text": [
            "220\n"
          ]
        }
      ]
    },
    {
      "cell_type": "markdown",
      "source": [
        "The 0/1 Knapsack problem maximizes the total value without exceeding the weight. In the example, the max value is 220 with the maximum weight being 50.\n",
        "\n",
        "The time complexity is O(nW), appearing polynomial, and the space complexity is O(nW) as the memory usage grows with the input size.\n",
        "\n",
        "This is relevant to my research as it models limited robot battery or bandwidth, choosing which alerts or tasks are most valuable to handle given resource limits. In a hospital rescue scene, it focuses on which alerts or tasks a drone should respond to first when energy is low."
      ],
      "metadata": {
        "id": "CtON8jfReH1S"
      }
    },
    {
      "cell_type": "code",
      "source": [
        "# Edit Distance\n",
        "\n",
        "def edit_distance(str1, str2):\n",
        "    m, n = len(str1), len(str2)\n",
        "    dp = [[0] * (n + 1) for _ in range(m + 1)]\n",
        "\n",
        "    for i in range(m + 1):\n",
        "        for j in range(n + 1):\n",
        "            if i == 0:\n",
        "                dp[i][j] = j\n",
        "            elif j == 0:\n",
        "                dp[i][j] = i\n",
        "            elif str1[i - 1] == str2[j - 1]:\n",
        "                dp[i][j] = dp[i - 1][j - 1]\n",
        "            else:\n",
        "                dp[i][j] = 1 + min(\n",
        "                    dp[i][j - 1],\n",
        "                    dp[i - 1][j],\n",
        "                    dp[i - 1][j - 1]\n",
        "                )\n",
        "\n",
        "    return dp[m][n]"
      ],
      "metadata": {
        "id": "tO1iAKL1QX1o"
      },
      "execution_count": 5,
      "outputs": []
    },
    {
      "cell_type": "code",
      "source": [
        "print(edit_distance(\"kitten\", \"sitting\"))\n"
      ],
      "metadata": {
        "colab": {
          "base_uri": "https://localhost:8080/"
        },
        "id": "ZNmMOkWjQcEo",
        "outputId": "6635acd3-3543-48a6-bff8-6714b00ab48f"
      },
      "execution_count": 6,
      "outputs": [
        {
          "output_type": "stream",
          "name": "stdout",
          "text": [
            "3\n"
          ]
        }
      ]
    },
    {
      "cell_type": "markdown",
      "source": [
        "The edit distance focuses on finding the minimum number of edits like insert, delete, and replace that are needed to convert one string to another.\n",
        "\n",
        "The time complexity is O(m * n), which is quadratic based on the combined size of the inputs, and the space complexity is O(m * n), meaning the memory usage grows quadratically with respect to the two input parameters.\n",
        "\n",
        "This is relevant to my research as it is useful for comparing robot plans or sensor logs over time. It can help detect anomalies between expected and observed behaviors, the edit distance can signal a deviation."
      ],
      "metadata": {
        "id": "LSkjVneKk1nR"
      }
    }
  ]
}