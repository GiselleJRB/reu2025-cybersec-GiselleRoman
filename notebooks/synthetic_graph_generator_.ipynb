{
  "nbformat": 4,
  "nbformat_minor": 0,
  "metadata": {
    "colab": {
      "provenance": []
    },
    "kernelspec": {
      "name": "python3",
      "display_name": "Python 3"
    },
    "language_info": {
      "name": "python"
    }
  },
  "cells": [
    {
      "cell_type": "code",
      "execution_count": 1,
      "metadata": {
        "id": "_p2QX66NY9Ov"
      },
      "outputs": [],
      "source": [
        "import networkx as nx\n",
        "import random\n",
        "\n"
      ]
    },
    {
      "cell_type": "code",
      "source": [
        "# Set size of synthetic graph\n",
        "NUM_AGENTS = 5000\n",
        "NUM_ZONES = 3000\n",
        "NUM_TASKS = 1500\n",
        "NUM_ANOMALIES = 300"
      ],
      "metadata": {
        "id": "wcpKhCZHaJ5k"
      },
      "execution_count": 2,
      "outputs": []
    },
    {
      "cell_type": "code",
      "source": [
        "# Create empty graph\n",
        "G = nx.Graph()\n"
      ],
      "metadata": {
        "id": "44BbjlYVbuRx"
      },
      "execution_count": 3,
      "outputs": []
    },
    {
      "cell_type": "code",
      "source": [
        "# Add agents\n",
        "for i in range(NUM_AGENTS):\n",
        "    G.add_node(f'agent_{i}', type='Agent', trust=round(random.uniform(0.5, 1.0), 2))\n"
      ],
      "metadata": {
        "id": "Cbk3s53hbu8w"
      },
      "execution_count": 4,
      "outputs": []
    },
    {
      "cell_type": "code",
      "source": [
        "# Add zones\n",
        "for i in range(NUM_ZONES):\n",
        "    G.add_node(f'zone_{i}', type='Zone', status=random.choice(['safe', 'blocked']))"
      ],
      "metadata": {
        "id": "3d0J9Nc2bxVX"
      },
      "execution_count": 5,
      "outputs": []
    },
    {
      "cell_type": "code",
      "source": [
        "# Add tasks\n",
        "for i in range(NUM_TASKS):\n",
        "    G.add_node(f'task_{i}', type='Task')\n"
      ],
      "metadata": {
        "id": "ZdFl4WO8bz1o"
      },
      "execution_count": 6,
      "outputs": []
    },
    {
      "cell_type": "code",
      "source": [
        "\n",
        "# Add anomalies\n",
        "for i in range(NUM_ANOMALIES):\n",
        "    G.add_node(f'anomaly_{i}', type='Anomaly', kind=random.choice(['GPS_Spoofing', 'Sensor_Tampering']))"
      ],
      "metadata": {
        "id": "FWLexZH_b1Xr"
      },
      "execution_count": 7,
      "outputs": []
    },
    {
      "cell_type": "code",
      "source": [
        "\n",
        "# Random edges between agents and zones\n",
        "for i in range(NUM_AGENTS):\n",
        "    G.add_edge(f'agent_{i}', f'zone_{random.randint(0, NUM_ZONES - 1)}', relation='OPERATES_IN')"
      ],
      "metadata": {
        "id": "Ve1dlcibb3jB"
      },
      "execution_count": 8,
      "outputs": []
    },
    {
      "cell_type": "code",
      "source": [
        "\n",
        "# Random edges between agents and tasks\n",
        "for i in range(NUM_AGENTS):\n",
        "    if i < NUM_TASKS:\n",
        "        G.add_edge(f'agent_{i}', f'task_{i}', relation='PERFORMS')"
      ],
      "metadata": {
        "id": "cGP-2s9xb5a2"
      },
      "execution_count": 9,
      "outputs": []
    },
    {
      "cell_type": "code",
      "source": [
        "\n",
        "# Random edges between zones and anomalies\n",
        "for i in range(NUM_ANOMALIES):\n",
        "    G.add_edge(f'zone_{random.randint(0, NUM_ZONES - 1)}', f'anomaly_{i}', relation='COMPROMISED_BY')\n"
      ],
      "metadata": {
        "id": "eXQgm3YLb8lz"
      },
      "execution_count": 10,
      "outputs": []
    },
    {
      "cell_type": "code",
      "source": [
        "print(\"Synthetic graph generated with\", len(G.nodes), \"nodes and\", len(G.edges), \"edges.\")\n"
      ],
      "metadata": {
        "colab": {
          "base_uri": "https://localhost:8080/"
        },
        "id": "PIfaMjpmb-_w",
        "outputId": "e26b4484-eb60-4892-d657-1ac6f158a69b"
      },
      "execution_count": 13,
      "outputs": [
        {
          "output_type": "stream",
          "name": "stdout",
          "text": [
            "Synthetic graph generated with 9800 nodes and 6800 edges.\n"
          ]
        }
      ]
    },
    {
      "cell_type": "code",
      "source": [
        "\n",
        "# Export to GraphML\n",
        "nx.write_graphml(G, \"synthetic_graph.graphml\")\n"
      ],
      "metadata": {
        "id": "J5iTw6tZb-fE"
      },
      "execution_count": 14,
      "outputs": []
    }
  ]
}