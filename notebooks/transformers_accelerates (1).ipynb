{
  "cells": [
    {
      "cell_type": "code",
      "execution_count": null,
      "metadata": {
        "id": "t_7A2ODEHcGI",
        "collapsed": true
      },
      "outputs": [],
      "source": [
        "!pip install transformers accelerate"
      ]
    },
    {
      "cell_type": "code",
      "execution_count": null,
      "metadata": {
        "id": "n8Sqw6bVJQbk",
        "collapsed": true
      },
      "outputs": [],
      "source": [
        "!pip install bitsandbytes"
      ]
    },
    {
      "cell_type": "code",
      "execution_count": null,
      "metadata": {
        "id": "zudmg-dgZ9-H",
        "collapsed": true
      },
      "outputs": [],
      "source": [
        "!pip install \"transformers>=4.45.1\""
      ]
    },
    {
      "cell_type": "code",
      "execution_count": null,
      "metadata": {
        "id": "tJ0OQ1vWPbMI",
        "collapsed": true
      },
      "outputs": [],
      "source": [
        "from huggingface_hub import login\n",
        "login()"
      ]
    },
    {
      "cell_type": "code",
      "execution_count": null,
      "metadata": {
        "id": "-hYUaEkOHzuY",
        "collapsed": true
      },
      "outputs": [],
      "source": [
        "#Part 2: Load Models Using Google Colab\n",
        "from transformers import AutoTokenizer, AutoModelForCausalLM, pipeline\n",
        "\n",
        "model_name = \"CyberNative/CyberBase-13b\"\n",
        "\n",
        "tokenizer = AutoTokenizer.from_pretrained(model_name)\n",
        "model = AutoModelForCausalLM.from_pretrained(model_name, device_map=\"cuda\")\n",
        "\n",
        "generator = pipeline(\"text-generation\", model=model, tokenizer=tokenizer)"
      ]
    },
    {
      "cell_type": "code",
      "execution_count": null,
      "metadata": {
        "id": "RtaFcNt_YDRI",
        "collapsed": true
      },
      "outputs": [],
      "source": [
        "output = generator(\"Explain how ransomware works and how to defend against it.\",max_length=200)\n",
        "print(output[0][\"generated_text\"])"
      ]
    },
    {
      "cell_type": "code",
      "execution_count": null,
      "metadata": {
        "id": "pftpkBQmYMwV",
        "collapsed": true
      },
      "outputs": [],
      "source": [
        "#Part 3:Model-Specific Hands-On Exercises\n",
        "#Model 1: CyberBase-13B\n",
        "\n",
        "output = generator(\"Map CVE-2023-24055 to its related CWE and explain the underlying weakness.\", max_length=250)\n",
        "print(output[0][\"generated_text\"])"
      ]
    },
    {
      "cell_type": "code",
      "execution_count": null,
      "metadata": {
        "id": "YTFUft9oYqng",
        "collapsed": true
      },
      "outputs": [],
      "source": [
        "#Model 2: ZySec-7B\n",
        "\n",
        "model_name = \"ZySec-7B\"\n",
        "\n",
        "output = generator(\"Compare ISO 27001 with NIST 800-53 for cloud security controls.\", max_length=250)\n",
        "print(output[0][\"generated_text\"])"
      ]
    },
    {
      "cell_type": "code",
      "execution_count": null,
      "metadata": {
        "colab": {
          "background_save": true
        },
        "id": "_dhxIp9PY2s1",
        "collapsed": true
      },
      "outputs": [],
      "source": [
        "#Model 3: Foundation-Sec-8B\n",
        "\n",
        "model_name = \"Foundation-Sec-8B\"\n",
        "\n",
        "output = generator(\"Map CVE-2023-24055 to its related CWE and explain the underlying weakness.\", max_length=250)\n",
        "print(output[0][\"generated_text\"])"
      ]
    },
    {
      "cell_type": "code",
      "execution_count": null,
      "metadata": {
        "colab": {
          "background_save": true
        },
        "id": "oB5EqFBWZAUF",
        "collapsed": true
      },
      "outputs": [],
      "source": [
        "#Model 4: Canstralian/CyberAttackDetection\n",
        "model_name = \"Canstralian/CyberAttackDetection\"\n",
        "\n",
        "log = '{\"src_ip\":\"192.168.1.5\", \"dst_port\":22, \"activity\":\"login_failure\", \"retries\":5}'\n",
        "prompt = f\"Analyze the following log and determine if it indicates a brute force attack:\\n{log}\"\n",
        "\n",
        "output = generator(prompt, max_length=200)\n",
        "print(output[0][\"generated_text\"])\n"
      ]
    }
  ],
  "metadata": {
    "accelerator": "GPU",
    "colab": {
      "gpuType": "T4",
      "provenance": []
    },
    "kernelspec": {
      "display_name": "Python 3",
      "name": "python3"
    },
    "language_info": {
      "name": "python"
    }
  },
  "nbformat": 4,
  "nbformat_minor": 0
}